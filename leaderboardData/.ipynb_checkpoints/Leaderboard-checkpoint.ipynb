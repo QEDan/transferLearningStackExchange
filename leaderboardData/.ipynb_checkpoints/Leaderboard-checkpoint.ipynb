{
 "cells": [
  {
   "cell_type": "code",
   "execution_count": 1,
   "metadata": {
    "collapsed": true
   },
   "outputs": [],
   "source": [
    "import pandas as pd\n",
    "import numpy as np\n",
    "import matplotlib.pyplot as plt\n",
    "%matplotlib inline"
   ]
  },
  {
   "cell_type": "code",
   "execution_count": 2,
   "metadata": {
    "collapsed": false
   },
   "outputs": [
    {
     "data": {
      "text/html": [
       "<div>\n",
       "<table border=\"1\" class=\"dataframe\">\n",
       "  <thead>\n",
       "    <tr style=\"text-align: right;\">\n",
       "      <th></th>\n",
       "      <th>﻿TeamId</th>\n",
       "      <th>TeamName</th>\n",
       "      <th>SubmissionDate</th>\n",
       "      <th>Score</th>\n",
       "    </tr>\n",
       "  </thead>\n",
       "  <tbody>\n",
       "    <tr>\n",
       "      <th>1264</th>\n",
       "      <td>508529</td>\n",
       "      <td>No Print Good Product</td>\n",
       "      <td>2017-03-13 02:17:12</td>\n",
       "      <td>0.08511</td>\n",
       "    </tr>\n",
       "    <tr>\n",
       "      <th>107</th>\n",
       "      <td>415012</td>\n",
       "      <td>connectwithghosh</td>\n",
       "      <td>2016-11-28 05:22:28</td>\n",
       "      <td>0.06519</td>\n",
       "    </tr>\n",
       "    <tr>\n",
       "      <th>771</th>\n",
       "      <td>421196</td>\n",
       "      <td>NTU_r05921004_FourPeople</td>\n",
       "      <td>2017-01-05 08:52:29</td>\n",
       "      <td>0.14867</td>\n",
       "    </tr>\n",
       "    <tr>\n",
       "      <th>1401</th>\n",
       "      <td>563016</td>\n",
       "      <td>ObserverL</td>\n",
       "      <td>2017-03-23 12:14:37</td>\n",
       "      <td>0.13107</td>\n",
       "    </tr>\n",
       "  </tbody>\n",
       "</table>\n",
       "</div>"
      ],
      "text/plain": [
       "      ﻿TeamId                  TeamName       SubmissionDate    Score\n",
       "1264   508529     No Print Good Product  2017-03-13 02:17:12  0.08511\n",
       "107    415012          connectwithghosh  2016-11-28 05:22:28  0.06519\n",
       "771    421196  NTU_r05921004_FourPeople  2017-01-05 08:52:29  0.14867\n",
       "1401   563016                 ObserverL  2017-03-23 12:14:37  0.13107"
      ]
     },
     "execution_count": 2,
     "metadata": {},
     "output_type": "execute_result"
    }
   ],
   "source": [
    "leaderboard = pd.read_csv('transfer-learning-on-stack-exchange-tags-publicleaderboard.csv')\n",
    "leaderboard.sample(4)"
   ]
  },
  {
   "cell_type": "code",
   "execution_count": 12,
   "metadata": {
    "collapsed": false
   },
   "outputs": [
    {
     "data": {
      "text/plain": [
       "<matplotlib.text.Text at 0x7f614288f048>"
      ]
     },
     "execution_count": 12,
     "metadata": {},
     "output_type": "execute_result"
    },
    {
     "data": {
      "image/png": "[encoded data removed]",
      "text/plain": [
       "<matplotlib.figure.Figure at 0x7f6142d9b748>"
      ]
     },
     "metadata": {},
     "output_type": "display_data"
    }
   ],
   "source": [
    "plt.figure(figsize=(14,6))\n",
    "leaderboard['Score'].hist(bins=50)\n",
    "plt.xlabel('F1 Score')"
   ]
  },
  {
   "cell_type": "code",
   "execution_count": 4,
   "metadata": {
    "collapsed": false
   },
   "outputs": [
    {
     "data": {
      "text/html": [
       "<div>\n",
       "<table border=\"1\" class=\"dataframe\">\n",
       "  <thead>\n",
       "    <tr style=\"text-align: right;\">\n",
       "      <th></th>\n",
       "      <th>﻿TeamId</th>\n",
       "      <th>TeamName</th>\n",
       "      <th>SubmissionDate</th>\n",
       "      <th>Score</th>\n",
       "    </tr>\n",
       "  </thead>\n",
       "  <tbody>\n",
       "    <tr>\n",
       "      <th>1169</th>\n",
       "      <td>456730</td>\n",
       "      <td>Kilorad</td>\n",
       "      <td>2017-03-03 07:04:59</td>\n",
       "      <td>0.93974</td>\n",
       "    </tr>\n",
       "    <tr>\n",
       "      <th>1289</th>\n",
       "      <td>514346</td>\n",
       "      <td>Test</td>\n",
       "      <td>2017-03-15 01:37:11</td>\n",
       "      <td>0.97295</td>\n",
       "    </tr>\n",
       "    <tr>\n",
       "      <th>1340</th>\n",
       "      <td>456730</td>\n",
       "      <td>Kilorad</td>\n",
       "      <td>2017-03-19 12:53:43</td>\n",
       "      <td>0.94087</td>\n",
       "    </tr>\n",
       "    <tr>\n",
       "      <th>1341</th>\n",
       "      <td>456730</td>\n",
       "      <td>Kilorad</td>\n",
       "      <td>2017-03-19 13:02:53</td>\n",
       "      <td>0.94198</td>\n",
       "    </tr>\n",
       "    <tr>\n",
       "      <th>1342</th>\n",
       "      <td>456730</td>\n",
       "      <td>Kilorad</td>\n",
       "      <td>2017-03-19 14:04:52</td>\n",
       "      <td>0.94635</td>\n",
       "    </tr>\n",
       "    <tr>\n",
       "      <th>1361</th>\n",
       "      <td>442101</td>\n",
       "      <td>Mice Labs</td>\n",
       "      <td>2017-03-20 08:19:27</td>\n",
       "      <td>0.91404</td>\n",
       "    </tr>\n",
       "  </tbody>\n",
       "</table>\n",
       "</div>"
      ],
      "text/plain": [
       "      ﻿TeamId   TeamName       SubmissionDate    Score\n",
       "1169   456730    Kilorad  2017-03-03 07:04:59  0.93974\n",
       "1289   514346       Test  2017-03-15 01:37:11  0.97295\n",
       "1340   456730    Kilorad  2017-03-19 12:53:43  0.94087\n",
       "1341   456730    Kilorad  2017-03-19 13:02:53  0.94198\n",
       "1342   456730    Kilorad  2017-03-19 14:04:52  0.94635\n",
       "1361   442101  Mice Labs  2017-03-20 08:19:27  0.91404"
      ]
     },
     "execution_count": 4,
     "metadata": {},
     "output_type": "execute_result"
    }
   ],
   "source": [
    "leaderboard[leaderboard.Score > 0.9]"
   ]
  },
  {
   "cell_type": "code",
   "execution_count": 5,
   "metadata": {
    "collapsed": false
   },
   "outputs": [],
   "source": [
    "topByTeam = leaderboard.sort_values('Score', ascending=False).groupby('﻿TeamId').first().reset_index()"
   ]
  },
  {
   "cell_type": "code",
   "execution_count": 14,
   "metadata": {
    "collapsed": false
   },
   "outputs": [
    {
     "data": {
      "text/plain": [
       "<matplotlib.text.Text at 0x7f6142579240>"
      ]
     },
     "execution_count": 14,
     "metadata": {},
     "output_type": "execute_result"
    },
    {
     "data": {
      "image/png": "[encoded data removed]",
      "text/plain": [
       "<matplotlib.figure.Figure at 0x7f6142990d30>"
      ]
     },
     "metadata": {},
     "output_type": "display_data"
    }
   ],
   "source": [
    "plt.figure(figsize=(14,6))\n",
    "topByTeam.Score.hist(bins=30)\n",
    "plt.xlabel(\"F1 Score\")"
   ]
  },
  {
   "cell_type": "code",
   "execution_count": null,
   "metadata": {
    "collapsed": true
   },
   "outputs": [],
   "source": []
  }
 ],
 "metadata": {
  "anaconda-cloud": {},
  "kernelspec": {
   "display_name": "Python [Root]",
   "language": "python",
   "name": "Python [Root]"
  },
  "language_info": {
   "codemirror_mode": {
    "name": "ipython",
    "version": 3
   },
   "file_extension": ".py",
   "mimetype": "text/x-python",
   "name": "python",
   "nbconvert_exporter": "python",
   "pygments_lexer": "ipython3",
   "version": "3.5.2"
  }
 },
 "nbformat": 4,
 "nbformat_minor": 0
}
