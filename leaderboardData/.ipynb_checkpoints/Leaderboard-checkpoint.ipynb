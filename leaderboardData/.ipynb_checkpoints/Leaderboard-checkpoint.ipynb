{
 "cells": [
  {
   "cell_type": "code",
   "execution_count": 1,
   "metadata": {
    "collapsed": true
   },
   "outputs": [],
   "source": [
    "import pandas as pd\n",
    "import numpy as np\n",
    "import matplotlib.pyplot as plt\n",
    "%matplotlib inline"
   ]
  },
  {
   "cell_type": "code",
   "execution_count": 2,
   "metadata": {
    "collapsed": false
   },
   "outputs": [
    {
     "data": {
      "text/html": [
       "<div>\n",
       "<table border=\"1\" class=\"dataframe\">\n",
       "  <thead>\n",
       "    <tr style=\"text-align: right;\">\n",
       "      <th></th>\n",
       "      <th>﻿TeamId</th>\n",
       "      <th>TeamName</th>\n",
       "      <th>SubmissionDate</th>\n",
       "      <th>Score</th>\n",
       "    </tr>\n",
       "  </thead>\n",
       "  <tbody>\n",
       "    <tr>\n",
       "      <th>653</th>\n",
       "      <td>414969</td>\n",
       "      <td>NTU_b02901004_hail jas</td>\n",
       "      <td>2016-12-30 06:06:46</td>\n",
       "      <td>0.15708</td>\n",
       "    </tr>\n",
       "    <tr>\n",
       "      <th>909</th>\n",
       "      <td>451457</td>\n",
       "      <td>nought</td>\n",
       "      <td>2017-01-18 05:13:53</td>\n",
       "      <td>0.11700</td>\n",
       "    </tr>\n",
       "    <tr>\n",
       "      <th>254</th>\n",
       "      <td>428842</td>\n",
       "      <td>Miroslav Sabo</td>\n",
       "      <td>2016-12-10 16:47:03</td>\n",
       "      <td>0.09776</td>\n",
       "    </tr>\n",
       "    <tr>\n",
       "      <th>209</th>\n",
       "      <td>416073</td>\n",
       "      <td>nickl</td>\n",
       "      <td>2016-12-06 00:00:37</td>\n",
       "      <td>0.08959</td>\n",
       "    </tr>\n",
       "  </tbody>\n",
       "</table>\n",
       "</div>"
      ],
      "text/plain": [
       "     ﻿TeamId                TeamName       SubmissionDate    Score\n",
       "653   414969  NTU_b02901004_hail jas  2016-12-30 06:06:46  0.15708\n",
       "909   451457                  nought  2017-01-18 05:13:53  0.11700\n",
       "254   428842           Miroslav Sabo  2016-12-10 16:47:03  0.09776\n",
       "209   416073                   nickl  2016-12-06 00:00:37  0.08959"
      ]
     },
     "execution_count": 2,
     "metadata": {},
     "output_type": "execute_result"
    }
   ],
   "source": [
    "leaderboard = pd.read_csv('transfer-learning-on-stack-exchange-tags-publicleaderboard.csv')\n",
    "leaderboard.sample(4)"
   ]
  },
  {
   "cell_type": "code",
   "execution_count": 4,
   "metadata": {
    "collapsed": false
   },
   "outputs": [
    {
     "data": {
      "text/plain": [
       "<matplotlib.axes._subplots.AxesSubplot at 0x7f3e12038f98>"
      ]
     },
     "execution_count": 4,
     "metadata": {},
     "output_type": "execute_result"
    },
    {
     "data": {
      "image/png": "[encoded data removed]",
      "text/plain": [
       "<matplotlib.figure.Figure at 0x7f3e12043048>"
      ]
     },
     "metadata": {},
     "output_type": "display_data"
    }
   ],
   "source": [
    "leaderboard['Score'].hist(bins=50)"
   ]
  },
  {
   "cell_type": "code",
   "execution_count": 6,
   "metadata": {
    "collapsed": false
   },
   "outputs": [
    {
     "data": {
      "text/html": [
       "<div>\n",
       "<table border=\"1\" class=\"dataframe\">\n",
       "  <thead>\n",
       "    <tr style=\"text-align: right;\">\n",
       "      <th></th>\n",
       "      <th>﻿TeamId</th>\n",
       "      <th>TeamName</th>\n",
       "      <th>SubmissionDate</th>\n",
       "      <th>Score</th>\n",
       "    </tr>\n",
       "  </thead>\n",
       "  <tbody>\n",
       "    <tr>\n",
       "      <th>1169</th>\n",
       "      <td>456730</td>\n",
       "      <td>Kilorad</td>\n",
       "      <td>2017-03-03 07:04:59</td>\n",
       "      <td>0.93974</td>\n",
       "    </tr>\n",
       "    <tr>\n",
       "      <th>1289</th>\n",
       "      <td>514346</td>\n",
       "      <td>Test</td>\n",
       "      <td>2017-03-15 01:37:11</td>\n",
       "      <td>0.97295</td>\n",
       "    </tr>\n",
       "    <tr>\n",
       "      <th>1340</th>\n",
       "      <td>456730</td>\n",
       "      <td>Kilorad</td>\n",
       "      <td>2017-03-19 12:53:43</td>\n",
       "      <td>0.94087</td>\n",
       "    </tr>\n",
       "    <tr>\n",
       "      <th>1341</th>\n",
       "      <td>456730</td>\n",
       "      <td>Kilorad</td>\n",
       "      <td>2017-03-19 13:02:53</td>\n",
       "      <td>0.94198</td>\n",
       "    </tr>\n",
       "    <tr>\n",
       "      <th>1342</th>\n",
       "      <td>456730</td>\n",
       "      <td>Kilorad</td>\n",
       "      <td>2017-03-19 14:04:52</td>\n",
       "      <td>0.94635</td>\n",
       "    </tr>\n",
       "    <tr>\n",
       "      <th>1361</th>\n",
       "      <td>442101</td>\n",
       "      <td>Mice Labs</td>\n",
       "      <td>2017-03-20 08:19:27</td>\n",
       "      <td>0.91404</td>\n",
       "    </tr>\n",
       "  </tbody>\n",
       "</table>\n",
       "</div>"
      ],
      "text/plain": [
       "      ﻿TeamId   TeamName       SubmissionDate    Score\n",
       "1169   456730    Kilorad  2017-03-03 07:04:59  0.93974\n",
       "1289   514346       Test  2017-03-15 01:37:11  0.97295\n",
       "1340   456730    Kilorad  2017-03-19 12:53:43  0.94087\n",
       "1341   456730    Kilorad  2017-03-19 13:02:53  0.94198\n",
       "1342   456730    Kilorad  2017-03-19 14:04:52  0.94635\n",
       "1361   442101  Mice Labs  2017-03-20 08:19:27  0.91404"
      ]
     },
     "execution_count": 6,
     "metadata": {},
     "output_type": "execute_result"
    }
   ],
   "source": [
    "leaderboard[leaderboard.Score > 0.9]"
   ]
  },
  {
   "cell_type": "code",
   "execution_count": 18,
   "metadata": {
    "collapsed": false
   },
   "outputs": [],
   "source": [
    "topByTeam = leaderboard.sort_values('Score', ascending=False).groupby('﻿TeamId').first().reset_index()"
   ]
  },
  {
   "cell_type": "code",
   "execution_count": 20,
   "metadata": {
    "collapsed": false
   },
   "outputs": [
    {
     "data": {
      "text/plain": [
       "<matplotlib.axes._subplots.AxesSubplot at 0x7f3e0f27e9e8>"
      ]
     },
     "execution_count": 20,
     "metadata": {},
     "output_type": "execute_result"
    },
    {
     "data": {
      "image/png": "[encoded data removed]",
      "text/plain": [
       "<matplotlib.figure.Figure at 0x7f3e0f2740b8>"
      ]
     },
     "metadata": {},
     "output_type": "display_data"
    }
   ],
   "source": [
    "topByTeam.Score.hist(bins=30)"
   ]
  },
  {
   "cell_type": "code",
   "execution_count": null,
   "metadata": {
    "collapsed": true
   },
   "outputs": [],
   "source": []
  }
 ],
 "metadata": {
  "anaconda-cloud": {},
  "kernelspec": {
   "display_name": "Python [Root]",
   "language": "python",
   "name": "Python [Root]"
  },
  "language_info": {
   "codemirror_mode": {
    "name": "ipython",
    "version": 3
   },
   "file_extension": ".py",
   "mimetype": "text/x-python",
   "name": "python",
   "nbconvert_exporter": "python",
   "pygments_lexer": "ipython3",
   "version": "3.5.2"
  }
 },
 "nbformat": 4,
 "nbformat_minor": 0
}
