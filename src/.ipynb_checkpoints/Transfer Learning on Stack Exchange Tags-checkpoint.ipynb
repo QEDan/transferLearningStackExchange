{
 "cells": [
  {
   "cell_type": "code",
   "execution_count": 1,
   "metadata": {
    "collapsed": true
   },
   "outputs": [],
   "source": [
    "import re\n",
    "import string\n",
    "\n",
    "from bs4 import BeautifulSoup\n",
    "from nltk.corpus import stopwords\n",
    "import HTMLParser\n",
    "\n",
    "import numpy as np\n",
    "import pandas as pd\n",
    "import sklearn as skl"
   ]
  },
  {
   "cell_type": "code",
   "execution_count": 18,
   "metadata": {
    "collapsed": false
   },
   "outputs": [
    {
     "name": "stdout",
     "output_type": "stream",
     "text": [
      "[nltk_data] Downloading package stopwords to /home/mazur/nltk_data...\n",
      "[nltk_data]   Unzipping corpora/stopwords.zip.\n"
     ]
    },
    {
     "data": {
      "text/plain": [
       "True"
      ]
     },
     "execution_count": 18,
     "metadata": {},
     "output_type": "execute_result"
    }
   ],
   "source": [
    "import nltk\n",
    "nltk.download(\"stopwords\")"
   ]
  },
  {
   "cell_type": "code",
   "execution_count": 11,
   "metadata": {
    "collapsed": true
   },
   "outputs": [],
   "source": [
    "def removePunctuation(x):\n",
    "    # Lowercasing all words\n",
    "    x = x.lower()\n",
    "    # Removing non ASCII chars\n",
    "    x = re.sub(r'[^\\x00-\\x7f]',r' ',x)\n",
    "    # Removing (replacing with empty spaces actually) all the punctuations\n",
    "    return re.sub(\"[\"+string.punctuation+\"]\", \" \", x)"
   ]
  },
  {
   "cell_type": "code",
   "execution_count": 19,
   "metadata": {
    "collapsed": false
   },
   "outputs": [],
   "source": [
    "stops = set(stopwords.words(\"english\"))\n",
    "def removeStopwords(x):\n",
    "    # Removing all the stopwords\n",
    "    filtered_words = [word for word in x.split() if word not in stops]\n",
    "    return \" \".join(filtered_words)"
   ]
  },
  {
   "cell_type": "code",
   "execution_count": 12,
   "metadata": {
    "collapsed": false
   },
   "outputs": [],
   "source": [
    "dataframe = {\n",
    "    \"cooking\": pd.read_csv(\"../data/cooking.csv\"),\n",
    "    \"crypto\": pd.read_csv(\"../data/crypto.csv\"),\n",
    "    \"robotics\": pd.read_csv(\"../data/robotics.csv\"),\n",
    "    \"biology\": pd.read_csv(\"../data/biology.csv\"),\n",
    "    \"travel\": pd.read_csv(\"../data/travel.csv\"),\n",
    "    \"diy\": pd.read_csv(\"../data/diy.csv\"),\n",
    "}"
   ]
  },
  {
   "cell_type": "code",
   "execution_count": 21,
   "metadata": {
    "collapsed": false
   },
   "outputs": [
    {
     "data": {
      "text/html": [
       "<div>\n",
       "<table border=\"1\" class=\"dataframe\">\n",
       "  <thead>\n",
       "    <tr style=\"text-align: right;\">\n",
       "      <th></th>\n",
       "      <th>id</th>\n",
       "      <th>title</th>\n",
       "      <th>content</th>\n",
       "      <th>tags</th>\n",
       "    </tr>\n",
       "  </thead>\n",
       "  <tbody>\n",
       "    <tr>\n",
       "      <th>24713</th>\n",
       "      <td>94440</td>\n",
       "      <td>sump pump inlet draining directly onto float</td>\n",
       "      <td>sump pump inlet draining directly onto float p...</td>\n",
       "      <td>[basement, pump, sump-pump]</td>\n",
       "    </tr>\n",
       "    <tr>\n",
       "      <th>21316</th>\n",
       "      <td>84188</td>\n",
       "      <td>install sub panel ground main panel</td>\n",
       "      <td>old 3 fuse subpanel screw fuses currently two ...</td>\n",
       "      <td>[electrical]</td>\n",
       "    </tr>\n",
       "    <tr>\n",
       "      <th>11163</th>\n",
       "      <td>44517</td>\n",
       "      <td>use duct tape instead draft hood</td>\n",
       "      <td>small opening vent water heater instead buying...</td>\n",
       "      <td>[water-heater, vent, duct-tape]</td>\n",
       "    </tr>\n",
       "  </tbody>\n",
       "</table>\n",
       "</div>"
      ],
      "text/plain": [
       "          id                                         title  \\\n",
       "24713  94440  sump pump inlet draining directly onto float   \n",
       "21316  84188           install sub panel ground main panel   \n",
       "11163  44517              use duct tape instead draft hood   \n",
       "\n",
       "                                                 content  \\\n",
       "24713  sump pump inlet draining directly onto float p...   \n",
       "21316  old 3 fuse subpanel screw fuses currently two ...   \n",
       "11163  small opening vent water heater instead buying...   \n",
       "\n",
       "                                  tags  \n",
       "24713      [basement, pump, sump-pump]  \n",
       "21316                     [electrical]  \n",
       "11163  [water-heater, vent, duct-tape]  "
      ]
     },
     "execution_count": 21,
     "metadata": {},
     "output_type": "execute_result"
    }
   ],
   "source": [
    "for df in dataframe.values():\n",
    "    df[\"content\"] = [BeautifulSoup(df.loc[i, \"content\"], \"lxml\").getText() for i, row in df.iterrows()]\n",
    "    df[\"title\"] = df[\"title\"].map(removePunctuation)\n",
    "    df[\"content\"] = df[\"content\"].map(removePunctuation)\n",
    "    df[\"title\"] = df[\"title\"].map(removeStopwords)\n",
    "    df[\"content\"] = df[\"content\"].map(removeStopwords)\n",
    "    df[\"tags\"] = df[\"tags\"].map(lambda x: x.split())\n",
    "dataframe[\"diy\"].sample(3)"
   ]
  },
  {
   "cell_type": "code",
   "execution_count": 22,
   "metadata": {
    "collapsed": true
   },
   "outputs": [],
   "source": [
    "for name, df in dataframe.items():\n",
    "    # Saving to file\n",
    "    df.to_csv(\"../data/\" + name + \"_light.csv\", index=False)"
   ]
  },
  {
   "cell_type": "code",
   "execution_count": 23,
   "metadata": {
    "collapsed": true
   },
   "outputs": [],
   "source": [
    "dataframe = {\n",
    "    \"cooking\": pd.read_csv(\"../data/cooking_light.csv\"),\n",
    "    \"crypto\": pd.read_csv(\"../data/crypto_light.csv\"),\n",
    "    \"robotics\": pd.read_csv(\"../data/robotics_light.csv\"),\n",
    "    \"biology\": pd.read_csv(\"../data/biology_light.csv\"),\n",
    "    \"travel\": pd.read_csv(\"../data/travel_light.csv\"),\n",
    "    \"diy\": pd.read_csv(\"../data/diy_light.csv\"),\n",
    "}"
   ]
  },
  {
   "cell_type": "code",
   "execution_count": null,
   "metadata": {
    "collapsed": true
   },
   "outputs": [],
   "source": []
  }
 ],
 "metadata": {
  "anaconda-cloud": {},
  "kernelspec": {
   "display_name": "Python [Root]",
   "language": "python",
   "name": "Python [Root]"
  },
  "language_info": {
   "codemirror_mode": {
    "name": "ipython",
    "version": 3
   },
   "file_extension": ".py",
   "mimetype": "text/x-python",
   "name": "python",
   "nbconvert_exporter": "python",
   "pygments_lexer": "ipython3",
   "version": "3.5.2"
  }
 },
 "nbformat": 4,
 "nbformat_minor": 0
}
