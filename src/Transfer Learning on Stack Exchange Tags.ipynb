{
 "cells": [
  {
   "cell_type": "code",
   "execution_count": 2,
   "metadata": {
    "collapsed": false
   },
   "outputs": [],
   "source": [
    "import re\n",
    "import string\n",
    "\n",
    "from bs4 import BeautifulSoup\n",
    "from nltk.corpus import stopwords\n",
    "\n",
    "import numpy as np\n",
    "import pandas as pd\n",
    "import sklearn as skl"
   ]
  },
  {
   "cell_type": "code",
   "execution_count": 3,
   "metadata": {
    "collapsed": false
   },
   "outputs": [],
   "source": [
    "import nltk\n",
    "# nltk.download(\"stopwords\")"
   ]
  },
  {
   "cell_type": "code",
   "execution_count": 4,
   "metadata": {
    "collapsed": true
   },
   "outputs": [],
   "source": [
    "def removePunctuation(x):\n",
    "    # Lowercasing all words\n",
    "    x = x.lower()\n",
    "    # Removing non ASCII chars\n",
    "    x = re.sub(r'[^\\x00-\\x7f]',r' ',x)\n",
    "    # Removing (replacing with empty spaces actually) all the punctuations\n",
    "    return re.sub(\"[\"+string.punctuation+\"]\", \" \", x)"
   ]
  },
  {
   "cell_type": "code",
   "execution_count": 5,
   "metadata": {
    "collapsed": false
   },
   "outputs": [],
   "source": [
    "stops = set(stopwords.words(\"english\"))\n",
    "def removeStopwords(x):\n",
    "    # Removing all the stopwords\n",
    "    filtered_words = [word for word in x.split() if word not in stops]\n",
    "    return \" \".join(filtered_words)"
   ]
  },
  {
   "cell_type": "raw",
   "metadata": {
    "collapsed": false
   },
   "source": [
    "dataframe = {\n",
    "    \"cooking\": pd.read_csv(\"../data/cooking.csv\"),\n",
    "    \"crypto\": pd.read_csv(\"../data/crypto.csv\"),\n",
    "    \"robotics\": pd.read_csv(\"../data/robotics.csv\"),\n",
    "    \"biology\": pd.read_csv(\"../data/biology.csv\"),\n",
    "    \"travel\": pd.read_csv(\"../data/travel.csv\"),\n",
    "    \"diy\": pd.read_csv(\"../data/diy.csv\"),\n",
    "}"
   ]
  },
  {
   "cell_type": "raw",
   "metadata": {
    "collapsed": false
   },
   "source": [
    "for df in dataframe.values():\n",
    "    df[\"content\"] = [BeautifulSoup(df.loc[i, \"content\"], \"lxml\").getText() for i, row in df.iterrows()]\n",
    "    df[\"title\"] = df[\"title\"].map(removePunctuation)\n",
    "    df[\"content\"] = df[\"content\"].map(removePunctuation)\n",
    "    df[\"title\"] = df[\"title\"].map(removeStopwords)\n",
    "    df[\"content\"] = df[\"content\"].map(removeStopwords)\n",
    "    df[\"tags\"] = df[\"tags\"].map(lambda x: x.split())\n",
    "dataframe[\"diy\"].sample(3)"
   ]
  },
  {
   "cell_type": "raw",
   "metadata": {
    "collapsed": true
   },
   "source": [
    "for name, df in dataframe.items():\n",
    "    # Saving to file\n",
    "    df.to_csv(\"../data/\" + name + \"_light.csv\", index=False)"
   ]
  },
  {
   "cell_type": "code",
   "execution_count": 6,
   "metadata": {
    "collapsed": true
   },
   "outputs": [],
   "source": [
    "dataframe = {\n",
    "    \"cooking\": pd.read_csv(\"../data/cooking_light.csv\"),\n",
    "    \"crypto\": pd.read_csv(\"../data/crypto_light.csv\"),\n",
    "    \"robotics\": pd.read_csv(\"../data/robotics_light.csv\"),\n",
    "    \"biology\": pd.read_csv(\"../data/biology_light.csv\"),\n",
    "    \"travel\": pd.read_csv(\"../data/travel_light.csv\"),\n",
    "    \"diy\": pd.read_csv(\"../data/diy_light.csv\"),\n",
    "}"
   ]
  },
  {
   "cell_type": "code",
   "execution_count": 7,
   "metadata": {
    "collapsed": false
   },
   "outputs": [
    {
     "data": {
      "text/html": [
       "<div>\n",
       "<table border=\"1\" class=\"dataframe\">\n",
       "  <thead>\n",
       "    <tr style=\"text-align: right;\">\n",
       "      <th></th>\n",
       "      <th>id</th>\n",
       "      <th>title</th>\n",
       "      <th>content</th>\n",
       "      <th>tags</th>\n",
       "    </tr>\n",
       "  </thead>\n",
       "  <tbody>\n",
       "    <tr>\n",
       "      <th>9594</th>\n",
       "      <td>38475</td>\n",
       "      <td>filling gaps hardwood floor easiest way</td>\n",
       "      <td>got old beat hell hardwood floor apartment kit...</td>\n",
       "      <td>['floor', 'hardwood']</td>\n",
       "    </tr>\n",
       "    <tr>\n",
       "      <th>6334</th>\n",
       "      <td>25462</td>\n",
       "      <td>find eliminate sickly sweet smell apartment ob...</td>\n",
       "      <td>ever since start winter studio apartment smell...</td>\n",
       "      <td>['smell']</td>\n",
       "    </tr>\n",
       "    <tr>\n",
       "      <th>16256</th>\n",
       "      <td>66503</td>\n",
       "      <td>prevent refrigerator door hitting wall</td>\n",
       "      <td>stainless steel counter depth refrigerator doo...</td>\n",
       "      <td>['walls', 'refrigerator', 'damage', 'protection']</td>\n",
       "    </tr>\n",
       "  </tbody>\n",
       "</table>\n",
       "</div>"
      ],
      "text/plain": [
       "          id                                              title  \\\n",
       "9594   38475            filling gaps hardwood floor easiest way   \n",
       "6334   25462  find eliminate sickly sweet smell apartment ob...   \n",
       "16256  66503             prevent refrigerator door hitting wall   \n",
       "\n",
       "                                                 content  \\\n",
       "9594   got old beat hell hardwood floor apartment kit...   \n",
       "6334   ever since start winter studio apartment smell...   \n",
       "16256  stainless steel counter depth refrigerator doo...   \n",
       "\n",
       "                                                    tags  \n",
       "9594                               ['floor', 'hardwood']  \n",
       "6334                                           ['smell']  \n",
       "16256  ['walls', 'refrigerator', 'damage', 'protection']  "
      ]
     },
     "execution_count": 7,
     "metadata": {},
     "output_type": "execute_result"
    }
   ],
   "source": [
    "dataframe['diy'].sample(3)"
   ]
  },
  {
   "cell_type": "code",
   "execution_count": null,
   "metadata": {
    "collapsed": true
   },
   "outputs": [],
   "source": []
  }
 ],
 "metadata": {
  "anaconda-cloud": {},
  "kernelspec": {
   "display_name": "Python [Root]",
   "language": "python",
   "name": "Python [Root]"
  },
  "language_info": {
   "codemirror_mode": {
    "name": "ipython",
    "version": 3
   },
   "file_extension": ".py",
   "mimetype": "text/x-python",
   "name": "python",
   "nbconvert_exporter": "python",
   "pygments_lexer": "ipython3",
   "version": "3.5.2"
  }
 },
 "nbformat": 4,
 "nbformat_minor": 0
}
